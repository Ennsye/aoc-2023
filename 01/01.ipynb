{
 "cells": [
  {
   "cell_type": "code",
   "execution_count": 40,
   "id": "dc3d3106-6dab-479b-89f4-336511cfb39e",
   "metadata": {},
   "outputs": [
    {
     "data": {
      "text/plain": [
       "54388"
      ]
     },
     "execution_count": 40,
     "metadata": {},
     "output_type": "execute_result"
    }
   ],
   "source": [
    "def remove_non_digits_p1(s):\n",
    "    return [int(c) for c in s if c.isdigit()]\n",
    "\n",
    "def combine_digits(L):\n",
    "    # input: list of single digits\n",
    "    # output: integer\n",
    "    sL = [str(d) for d in L]\n",
    "    s_combined = ''.join(sL)\n",
    "    return int(s_combined)\n",
    "\n",
    "def process_string(s, part):\n",
    "    if part == 1:\n",
    "        digit_string = remove_non_digits_p1(s)\n",
    "    else:\n",
    "        digit_string = remove_non_digits_p2(s)\n",
    "    return [digit_string[0], digit_string[-1]]\n",
    "\n",
    "def p1(fname):\n",
    "    with open(fname) as f:\n",
    "        s = f.read()\n",
    "    L = s.split('\\n')\n",
    "    L = [e for e in L if (e!='')]\n",
    "    digit_lists = [process_string(e, 1) for e in L]\n",
    "    int_list = [combine_digits(sublist) for sublist in digit_lists]\n",
    "    return sum(int_list)\n",
    "\n",
    "p1('input.txt')"
   ]
  },
  {
   "cell_type": "code",
   "execution_count": 38,
   "id": "3018f099-65bd-416a-9865-3935c480808a",
   "metadata": {},
   "outputs": [
    {
     "data": {
      "text/plain": [
       "53515"
      ]
     },
     "execution_count": 38,
     "metadata": {},
     "output_type": "execute_result"
    }
   ],
   "source": [
    "str_int_conv = {'zero': 0, 'one': 1, 'two': 2, 'three': 3, 'four': 4, 'five': 5, 'six': 6, 'seven': 7, 'eight': 8, 'nine': 9}\n",
    "\n",
    "def find_all(s, substring):\n",
    "    # return an ordered list of indices where substring appears in s\n",
    "    ind_list = []\n",
    "    N = len(substring)\n",
    "    for i in range(len(s)):\n",
    "        stest = s[i:i+N]\n",
    "        if stest == substring:\n",
    "            ind_list.append(i)\n",
    "    return ind_list\n",
    "\n",
    "def remove_non_digits_p2(s):\n",
    "    # return a list of integers corresponding to the (ordered) integers that appear in s\n",
    "    L_digits = ['x']*len(s)\n",
    "    for i in range(len(s)):\n",
    "        if s[i].isdigit():\n",
    "            L_digits[i] = int(s[i])\n",
    "    for k in str_int_conv.keys():\n",
    "        ind_list = find_all(s, k)\n",
    "        for j in ind_list:\n",
    "            L_digits[j] = str_int_conv[k]\n",
    "    L_digits = [e for e in L_digits if (e != 'x')]\n",
    "    return L_digits\n",
    "\n",
    "def p2(fname):\n",
    "    with open(fname) as f:\n",
    "        s = f.read()\n",
    "    L = s.split('\\n')\n",
    "    L = [e for e in L if (e!='')]\n",
    "    digit_lists = [process_string(e, 2) for e in L]\n",
    "    int_list = [combine_digits(sublist) for sublist in digit_lists]\n",
    "    return sum(int_list)\n",
    "\n",
    "p2('input.txt')"
   ]
  },
  {
   "cell_type": "code",
   "execution_count": 28,
   "id": "88c4bc5f-8f39-40f7-b8c3-dc4b31c90b3b",
   "metadata": {},
   "outputs": [
    {
     "data": {
      "text/plain": [
       "[0, 2, 'x', 1]"
      ]
     },
     "execution_count": 28,
     "metadata": {},
     "output_type": "execute_result"
    }
   ],
   "source": [
    "Lt = ['x', 0, 2, 'x', 1]\n",
    "Lt.remove('x')\n",
    "Lt"
   ]
  }
 ],
 "metadata": {
  "kernelspec": {
   "display_name": "Python 3 (ipykernel)",
   "language": "python",
   "name": "python3"
  },
  "language_info": {
   "codemirror_mode": {
    "name": "ipython",
    "version": 3
   },
   "file_extension": ".py",
   "mimetype": "text/x-python",
   "name": "python",
   "nbconvert_exporter": "python",
   "pygments_lexer": "ipython3",
   "version": "3.11.6"
  }
 },
 "nbformat": 4,
 "nbformat_minor": 5
}
